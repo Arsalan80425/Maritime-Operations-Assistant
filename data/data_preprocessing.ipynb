{
 "cells": [
  {
   "cell_type": "code",
   "execution_count": 1,
   "id": "0f2b7294",
   "metadata": {},
   "outputs": [
    {
     "name": "stderr",
     "output_type": "stream",
     "text": [
      "C:\\Users\\arsal\\AppData\\Local\\Temp\\ipykernel_10888\\2093729830.py:13: FutureWarning: A value is trying to be set on a copy of a DataFrame or Series through chained assignment using an inplace method.\n",
      "The behavior will change in pandas 3.0. This inplace method will never work because the intermediate object on which we are setting values always behaves as a copy.\n",
      "\n",
      "For example, when doing 'df[col].method(value, inplace=True)', try using 'df.method({col: value}, inplace=True)' or df[col] = df[col].method(value) instead, to perform the operation inplace on the original object.\n",
      "\n",
      "\n",
      "  df_clean['UN Code'].fillna('Unknown', inplace=True)\n"
     ]
    },
    {
     "data": {
      "text/plain": [
       "('Port_Data_Clean.csv', 'Shipments.csv', 'Daily_Report.csv')"
      ]
     },
     "execution_count": 1,
     "metadata": {},
     "output_type": "execute_result"
    }
   ],
   "source": [
    "import pandas as pd\n",
    "import numpy as np\n",
    "from datetime import datetime, timedelta\n",
    "import random\n",
    "\n",
    "# Reload the original dataset\n",
    "df = pd.read_csv(\"Port_Data.csv\")\n",
    "\n",
    "# -----------------------------\n",
    "# Reapply preprocessing and feature engineering\n",
    "# -----------------------------\n",
    "df_clean = df.copy()\n",
    "df_clean['UN Code'].fillna('Unknown', inplace=True)\n",
    "df_clean['Port Name'] = df_clean['Port Name'].str.upper().str.strip()\n",
    "df_clean['Also known as'] = (\n",
    "    df_clean['Also known as']\n",
    "    .str.replace(r\"[\\[\\]']\", \"\", regex=True)\n",
    "    .str.replace(\",\", \";\")\n",
    "    .str.strip()\n",
    ")\n",
    "\n",
    "df_clean['Active Ratio'] = (\n",
    "    (df_clean['Arrivals(Last 24 Hours)'] + df_clean['Departures(Last 24 Hours)']) \n",
    "    / df_clean['Expected Arrivals']\n",
    ").round(2)\n",
    "\n",
    "df_clean['Traffic Density'] = (\n",
    "    df_clean['Vessels in Port'] \n",
    "    / (df_clean['Arrivals(Last 24 Hours)'] + df_clean['Departures(Last 24 Hours)'])\n",
    ").round(2)\n",
    "\n",
    "df_clean['Port Activity Index'] = (\n",
    "    0.4 * df_clean['Arrivals(Last 24 Hours)'] +\n",
    "    0.4 * df_clean['Departures(Last 24 Hours)'] +\n",
    "    0.2 * df_clean['Expected Arrivals']\n",
    ")\n",
    "\n",
    "quantiles = df_clean['Port Activity Index'].quantile([0.33, 0.66])\n",
    "def categorize_activity(x):\n",
    "    if x <= quantiles.iloc[0]:\n",
    "        return \"Low\"\n",
    "    elif x <= quantiles.iloc[1]:\n",
    "        return \"Medium\"\n",
    "    else:\n",
    "        return \"High\"\n",
    "\n",
    "df_clean['Traffic Category'] = df_clean['Port Activity Index'].apply(categorize_activity)\n",
    "\n",
    "# -----------------------------\n",
    "# Generate synthetic Shipments and Daily Report tables\n",
    "# -----------------------------\n",
    "\n",
    "np.random.seed(42)\n",
    "num_shipments = 1000\n",
    "sample_ports = df_clean[\"Port Name\"].unique()\n",
    "\n",
    "shipment_data = {\n",
    "    \"Container_ID\": [f\"CNT{10000+i}\" for i in range(num_shipments)],\n",
    "    \"Port_Name\": np.random.choice(sample_ports, num_shipments),\n",
    "    \"Status\": np.random.choice([\"Arrived\", \"Departed\", \"Delayed\", \"In Transit\"], num_shipments, p=[0.3, 0.3, 0.2, 0.2]),\n",
    "    \"ETA\": [datetime.now() + timedelta(hours=np.random.randint(-72, 72)) for _ in range(num_shipments)],\n",
    "    \"Delay_Hours\": np.random.choice([0, 1, 2, 3, 5, 8, 12, 24], num_shipments, p=[0.5, 0.1, 0.1, 0.1, 0.05, 0.05, 0.05, 0.05]),\n",
    "    \"Cargo_Type\": np.random.choice([\"Electronics\", \"Machinery\", \"Textiles\", \"Food\", \"Chemicals\", \"Automobiles\", \"Oil & Gas\"], num_shipments),\n",
    "}\n",
    "shipments_df = pd.DataFrame(shipment_data)\n",
    "\n",
    "num_days = 7\n",
    "daily_records = []\n",
    "for port in random.sample(list(sample_ports), 60):\n",
    "    for day_offset in range(num_days):\n",
    "        record_date = datetime.now().date() - timedelta(days=day_offset)\n",
    "        vessels = np.random.randint(100, 2500)\n",
    "        avg_delay = round(np.random.uniform(0.5, 12), 2)\n",
    "        weather = np.random.choice([\"Clear\", \"Cloudy\", \"Stormy\", \"Rainy\", \"Windy\"], p=[0.4, 0.3, 0.1, 0.1, 0.1])\n",
    "        remark = \"Heavy congestion\" if vessels > 1800 else \"Moderate activity\" if vessels > 1000 else \"Smooth operations\"\n",
    "        daily_records.append([record_date, port, vessels, avg_delay, weather, remark])\n",
    "\n",
    "daily_report_df = pd.DataFrame(daily_records, columns=[\"Date\", \"Port_Name\", \"Vessels_in_Port\", \"Avg_Delay\", \"Weather\", \"Remarks\"])\n",
    "\n",
    "# -----------------------------\n",
    "# Save all datasets\n",
    "# -----------------------------\n",
    "port_data_path = \"Port_Data_Clean.csv\"\n",
    "shipments_path = \"Shipments.csv\"\n",
    "daily_report_path = \"Daily_Report.csv\"\n",
    "\n",
    "df_clean.to_csv(port_data_path, index=False)\n",
    "shipments_df.to_csv(shipments_path, index=False)\n",
    "daily_report_df.to_csv(daily_report_path, index=False)\n",
    "\n",
    "port_data_path, shipments_path, daily_report_path\n"
   ]
  },
  {
   "cell_type": "code",
   "execution_count": null,
   "id": "a2d77401",
   "metadata": {},
   "outputs": [],
   "source": []
  }
 ],
 "metadata": {
  "kernelspec": {
   "display_name": "Python 3",
   "language": "python",
   "name": "python3"
  },
  "language_info": {
   "codemirror_mode": {
    "name": "ipython",
    "version": 3
   },
   "file_extension": ".py",
   "mimetype": "text/x-python",
   "name": "python",
   "nbconvert_exporter": "python",
   "pygments_lexer": "ipython3",
   "version": "3.13.7"
  }
 },
 "nbformat": 4,
 "nbformat_minor": 5
}
