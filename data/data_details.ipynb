{
 "cells": [
  {
   "cell_type": "code",
   "execution_count": 9,
   "id": "8e33bb84",
   "metadata": {},
   "outputs": [],
   "source": [
    "import pandas as pd"
   ]
  },
  {
   "cell_type": "code",
   "execution_count": 10,
   "id": "22d143c5",
   "metadata": {},
   "outputs": [],
   "source": [
    "daily_report=pd.read_csv(\"Daily_Report.csv\")\n",
    "port_data_clean=pd.read_csv(\"Port_Data_Clean.csv\")\n",
    "shipments=pd.read_csv(\"Shipments.csv\")"
   ]
  },
  {
   "cell_type": "code",
   "execution_count": 12,
   "id": "194bf5bc",
   "metadata": {},
   "outputs": [
    {
     "name": "stdout",
     "output_type": "stream",
     "text": [
      "<class 'pandas.core.frame.DataFrame'>\n",
      "RangeIndex: 420 entries, 0 to 419\n",
      "Data columns (total 6 columns):\n",
      " #   Column           Non-Null Count  Dtype  \n",
      "---  ------           --------------  -----  \n",
      " 0   Date             420 non-null    object \n",
      " 1   Port_Name        420 non-null    object \n",
      " 2   Vessels_in_Port  420 non-null    int64  \n",
      " 3   Avg_Delay        420 non-null    float64\n",
      " 4   Weather          420 non-null    object \n",
      " 5   Remarks          420 non-null    object \n",
      "dtypes: float64(1), int64(1), object(4)\n",
      "memory usage: 19.8+ KB\n"
     ]
    },
    {
     "data": {
      "text/plain": [
       "(None,\n",
       "          Date  Port_Name  Vessels_in_Port  Avg_Delay Weather  \\\n",
       " 0  2025-10-27  AL JUBAIL             1132       6.77   Clear   \n",
       " 1  2025-10-26  AL JUBAIL             1015       8.05  Cloudy   \n",
       " 2  2025-10-25  AL JUBAIL              377       8.22   Clear   \n",
       " 3  2025-10-24  AL JUBAIL             1925       0.85  Cloudy   \n",
       " 4  2025-10-23  AL JUBAIL             1730      11.87   Windy   \n",
       " \n",
       "              Remarks  \n",
       " 0  Moderate activity  \n",
       " 1  Moderate activity  \n",
       " 2  Smooth operations  \n",
       " 3   Heavy congestion  \n",
       " 4  Moderate activity  )"
      ]
     },
     "execution_count": 12,
     "metadata": {},
     "output_type": "execute_result"
    }
   ],
   "source": [
    "daily_report.info(),daily_report.head()"
   ]
  },
  {
   "cell_type": "code",
   "execution_count": 13,
   "id": "b2b2c7ff",
   "metadata": {},
   "outputs": [
    {
     "name": "stdout",
     "output_type": "stream",
     "text": [
      "<class 'pandas.core.frame.DataFrame'>\n",
      "RangeIndex: 480 entries, 0 to 479\n",
      "Data columns (total 15 columns):\n",
      " #   Column                     Non-Null Count  Dtype  \n",
      "---  ------                     --------------  -----  \n",
      " 0   Country                    480 non-null    object \n",
      " 1   Port Name                  480 non-null    object \n",
      " 2   UN Code                    480 non-null    object \n",
      " 3   Vessels in Port            480 non-null    int64  \n",
      " 4   Departures(Last 24 Hours)  480 non-null    int64  \n",
      " 5   Arrivals(Last 24 Hours)    480 non-null    int64  \n",
      " 6   Expected Arrivals          480 non-null    int64  \n",
      " 7   Type                       480 non-null    object \n",
      " 8   Area Local                 480 non-null    object \n",
      " 9   Area Global                480 non-null    object \n",
      " 10  Also known as              480 non-null    object \n",
      " 11  Active Ratio               480 non-null    float64\n",
      " 12  Traffic Density            480 non-null    float64\n",
      " 13  Port Activity Index        480 non-null    float64\n",
      " 14  Traffic Category           480 non-null    object \n",
      "dtypes: float64(3), int64(4), object(8)\n",
      "memory usage: 56.4+ KB\n"
     ]
    },
    {
     "data": {
      "text/plain": [
       "(None,\n",
       "   Country Port Name UN Code  Vessels in Port  Departures(Last 24 Hours)  \\\n",
       " 0   China  SHANGHAI   CNSHG             2420                       1376   \n",
       " 1   China   NANTONG   CNNTG             1572                       1173   \n",
       " 2   China       CJK   CNCJK             1529                        343   \n",
       " 3   China   NANJING   CNNKG             1414                        667   \n",
       " 4   China  JIANGYIN   CNJIA             1112                       1076   \n",
       " \n",
       "    Arrivals(Last 24 Hours)  Expected Arrivals       Type      Area Local  \\\n",
       " 0                     1626                644       Port  East China Sea   \n",
       " 1                     1287                234       Port  East China Sea   \n",
       " 2                      370                310  Anchorage  East China Sea   \n",
       " 3                     1060                203       Port  East China Sea   \n",
       " 4                     1070                166       Port  East China Sea   \n",
       " \n",
       "      Area Global                            Also known as  Active Ratio  \\\n",
       " 0  Central China     SHANG HAI;  YANGSHAN;  CNSHA;  CNSGH          4.66   \n",
       " 1  Central China                                 NAN TONG         10.51   \n",
       " 2  Central China  CHANGJIANGKOU;  CHANGJIANG KOU;  CJK CN          2.30   \n",
       " 3  Central China              NAN JING;  NAN JIN;  NANJIN          8.51   \n",
       " 4  Central China                 -;  JANG JIN;  JIANG YIN         12.93   \n",
       " \n",
       "    Traffic Density  Port Activity Index Traffic Category  \n",
       " 0             0.81               1329.6             High  \n",
       " 1             0.64               1030.8             High  \n",
       " 2             2.14                347.2             High  \n",
       " 3             0.82                731.4             High  \n",
       " 4             0.52                891.6             High  )"
      ]
     },
     "execution_count": 13,
     "metadata": {},
     "output_type": "execute_result"
    }
   ],
   "source": [
    "port_data_clean.info(), port_data_clean.head()"
   ]
  },
  {
   "cell_type": "code",
   "execution_count": 14,
   "id": "e52b9bf7",
   "metadata": {},
   "outputs": [
    {
     "name": "stdout",
     "output_type": "stream",
     "text": [
      "<class 'pandas.core.frame.DataFrame'>\n",
      "RangeIndex: 1000 entries, 0 to 999\n",
      "Data columns (total 6 columns):\n",
      " #   Column        Non-Null Count  Dtype \n",
      "---  ------        --------------  ----- \n",
      " 0   Container_ID  1000 non-null   object\n",
      " 1   Port_Name     1000 non-null   object\n",
      " 2   Status        1000 non-null   object\n",
      " 3   ETA           1000 non-null   object\n",
      " 4   Delay_Hours   1000 non-null   int64 \n",
      " 5   Cargo_Type    1000 non-null   object\n",
      "dtypes: int64(1), object(5)\n",
      "memory usage: 47.0+ KB\n"
     ]
    },
    {
     "data": {
      "text/plain": [
       "(None,\n",
       "   Container_ID         Port_Name      Status                         ETA  \\\n",
       " 0     CNT10000          TONGLING  In Transit  2025-10-27 20:09:57.548820   \n",
       " 1     CNT10001        MUIDERZAND     Delayed  2025-10-27 05:09:57.548843   \n",
       " 2     CNT10002      PANAMA CANAL     Arrived  2025-10-26 15:09:57.548852   \n",
       " 3     CNT10003     SRIRACHA ANCH     Delayed  2025-10-26 09:09:57.548915   \n",
       " 4     CNT10004  ROTTERDAM BOTLEK     Delayed  2025-10-28 09:09:57.548949   \n",
       " \n",
       "    Delay_Hours Cargo_Type  \n",
       " 0            3   Textiles  \n",
       " 1            5  Chemicals  \n",
       " 2            0   Textiles  \n",
       " 3            0  Chemicals  \n",
       " 4            0       Food  )"
      ]
     },
     "execution_count": 14,
     "metadata": {},
     "output_type": "execute_result"
    }
   ],
   "source": [
    "shipments.info(), shipments.head()"
   ]
  },
  {
   "cell_type": "code",
   "execution_count": null,
   "id": "6515ae93",
   "metadata": {},
   "outputs": [],
   "source": []
  }
 ],
 "metadata": {
  "kernelspec": {
   "display_name": "Python 3",
   "language": "python",
   "name": "python3"
  },
  "language_info": {
   "codemirror_mode": {
    "name": "ipython",
    "version": 3
   },
   "file_extension": ".py",
   "mimetype": "text/x-python",
   "name": "python",
   "nbconvert_exporter": "python",
   "pygments_lexer": "ipython3",
   "version": "3.13.7"
  }
 },
 "nbformat": 4,
 "nbformat_minor": 5
}
